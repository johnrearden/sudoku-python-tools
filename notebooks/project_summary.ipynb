{
 "cells": [
  {
   "cell_type": "markdown",
   "metadata": {},
   "source": [
    "# Sudoku Puzzle Creation Modelling"
   ]
  },
  {
   "cell_type": "markdown",
   "metadata": {},
   "source": [
    "### Project Outline\n",
    "The purpose of this project is to assist in the generation of sudoku puzzles with unique solutions and low ( <30 ) numbers of known cells. The process of generating a puzzle involves first creating a complete legal grid using a brute force backtracking solving algorithm. Cells are then removed randomly (in sequence, or in bulk) until the correct number remain, and then the puzzle is checked for the uniqueness of its solution.\n",
    "\n",
    "This is extremely computationally intensive for known_cell counts under 30, but puzzles above this threshold do not present a sufficient level of difficulty for the user."
   ]
  },
  {
   "cell_type": "markdown",
   "metadata": {},
   "source": [
    "### Suggested Procedure\n",
    "\n",
    "- Record the successful and unsuccessful attempts at puzzle generation in csv files\n",
    "- Generate features from puzzle metadata like frequency of digits, number of empty groups etc.\n",
    "- Perform an EDA and PCA to isolate features correlated with successful puzzle generation\n",
    "- Create a model to predict likelihood of a potential randomly created puzzle having a solution"
   ]
  }
 ],
 "metadata": {
  "kernelspec": {
   "display_name": "venv",
   "language": "python",
   "name": "venv"
  },
  "language_info": {
   "codemirror_mode": {
    "name": "ipython",
    "version": 3
   },
   "file_extension": ".py",
   "mimetype": "text/x-python",
   "name": "python",
   "nbconvert_exporter": "python",
   "pygments_lexer": "ipython3",
   "version": "3.9.19"
  }
 },
 "nbformat": 4,
 "nbformat_minor": 2
}
